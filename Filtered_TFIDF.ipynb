{
 "cells": [
  {
   "cell_type": "code",
   "execution_count": 1,
   "metadata": {},
   "outputs": [],
   "source": [
    "import pandas as pd\n",
    "import numpy as np\n",
    "import matplotlib.pyplot as plt\n",
    "import seaborn as sns\n",
    "import os\n",
    "from tqdm import tqdm_notebook as tqdm\n",
    "import csv\n",
    "import pickle"
   ]
  },
  {
   "cell_type": "code",
   "execution_count": 6,
   "metadata": {},
   "outputs": [
    {
     "data": {
      "text/html": [
       "<div>\n",
       "<style scoped>\n",
       "    .dataframe tbody tr th:only-of-type {\n",
       "        vertical-align: middle;\n",
       "    }\n",
       "\n",
       "    .dataframe tbody tr th {\n",
       "        vertical-align: top;\n",
       "    }\n",
       "\n",
       "    .dataframe thead th {\n",
       "        text-align: right;\n",
       "    }\n",
       "</style>\n",
       "<table border=\"1\" class=\"dataframe\">\n",
       "  <thead>\n",
       "    <tr style=\"text-align: right;\">\n",
       "      <th></th>\n",
       "      <th>TITLE</th>\n",
       "      <th>DESCRIPTION</th>\n",
       "      <th>BULLET_POINTS</th>\n",
       "      <th>BRAND</th>\n",
       "      <th>BROWSE_NODE_ID</th>\n",
       "    </tr>\n",
       "  </thead>\n",
       "  <tbody>\n",
       "    <tr>\n",
       "      <th>0</th>\n",
       "      <td>Pete The Cat Bedtime Blues Doll, 14.5 Inch</td>\n",
       "      <td>Pete the Cat is the coolest, most popular cat ...</td>\n",
       "      <td>[Pete the Cat Bedtime Blues plush doll,Based o...</td>\n",
       "      <td>MerryMakers</td>\n",
       "      <td>0</td>\n",
       "    </tr>\n",
       "    <tr>\n",
       "      <th>1</th>\n",
       "      <td>The New Yorker NYHM014 Refrigerator Magnet, 2 ...</td>\n",
       "      <td>The New Yorker Handsome Cello Wrapped Hard Mag...</td>\n",
       "      <td>[Cat In A Tea Cup by New Yorker cover artist G...</td>\n",
       "      <td>The New Yorker</td>\n",
       "      <td>1</td>\n",
       "    </tr>\n",
       "    <tr>\n",
       "      <th>2</th>\n",
       "      <td>Men'S Full Sleeve Raglan T-Shirts Denim T-Shir...</td>\n",
       "      <td>Men'S Full Sleeve Raglan T-Shirts Denim T-Shir...</td>\n",
       "      <td>[Color: Blue,Sleeve: Full Sleeve,Material: Cot...</td>\n",
       "      <td>Bhavya Enterprise</td>\n",
       "      <td>5</td>\n",
       "    </tr>\n",
       "    <tr>\n",
       "      <th>3</th>\n",
       "      <td>Glance Women's Wallet (Black) (LW-21)</td>\n",
       "      <td>This Black wallet by Glance will be a treasure...</td>\n",
       "      <td>[The Most Comfortable Women's Wallet That You ...</td>\n",
       "      <td>Glance</td>\n",
       "      <td>6</td>\n",
       "    </tr>\n",
       "    <tr>\n",
       "      <th>4</th>\n",
       "      <td>Wild Animals Hungry Brain Educational Flash Ca...</td>\n",
       "      <td>Wild Animals are the animals that mostly stays...</td>\n",
       "      <td>[Playful learning: Flash cards develops the lo...</td>\n",
       "      <td>hungry brain</td>\n",
       "      <td>7</td>\n",
       "    </tr>\n",
       "  </tbody>\n",
       "</table>\n",
       "</div>"
      ],
      "text/plain": [
       "                                               TITLE  \\\n",
       "0         Pete The Cat Bedtime Blues Doll, 14.5 Inch   \n",
       "1  The New Yorker NYHM014 Refrigerator Magnet, 2 ...   \n",
       "2  Men'S Full Sleeve Raglan T-Shirts Denim T-Shir...   \n",
       "3              Glance Women's Wallet (Black) (LW-21)   \n",
       "4  Wild Animals Hungry Brain Educational Flash Ca...   \n",
       "\n",
       "                                         DESCRIPTION  \\\n",
       "0  Pete the Cat is the coolest, most popular cat ...   \n",
       "1  The New Yorker Handsome Cello Wrapped Hard Mag...   \n",
       "2  Men'S Full Sleeve Raglan T-Shirts Denim T-Shir...   \n",
       "3  This Black wallet by Glance will be a treasure...   \n",
       "4  Wild Animals are the animals that mostly stays...   \n",
       "\n",
       "                                       BULLET_POINTS              BRAND  \\\n",
       "0  [Pete the Cat Bedtime Blues plush doll,Based o...        MerryMakers   \n",
       "1  [Cat In A Tea Cup by New Yorker cover artist G...     The New Yorker   \n",
       "2  [Color: Blue,Sleeve: Full Sleeve,Material: Cot...  Bhavya Enterprise   \n",
       "3  [The Most Comfortable Women's Wallet That You ...             Glance   \n",
       "4  [Playful learning: Flash cards develops the lo...       hungry brain   \n",
       "\n",
       "   BROWSE_NODE_ID  \n",
       "0               0  \n",
       "1               1  \n",
       "2               5  \n",
       "3               6  \n",
       "4               7  "
      ]
     },
     "execution_count": 6,
     "metadata": {},
     "output_type": "execute_result"
    }
   ],
   "source": [
    "filtered = pd.read_csv('filtered_data.csv')\n",
    "filtered.head()"
   ]
  },
  {
   "cell_type": "code",
   "execution_count": 3,
   "metadata": {},
   "outputs": [
    {
     "data": {
      "text/plain": [
       "(1903408, 5)"
      ]
     },
     "execution_count": 3,
     "metadata": {},
     "output_type": "execute_result"
    }
   ],
   "source": [
    "filtered.shape"
   ]
  },
  {
   "cell_type": "code",
   "execution_count": 4,
   "metadata": {
    "id": "duyhbduHmdas"
   },
   "outputs": [],
   "source": [
    "from bs4 import BeautifulSoup\n",
    "import re\n",
    "from nltk.corpus import stopwords\n",
    "from nltk.stem import SnowballStemmer"
   ]
  },
  {
   "cell_type": "code",
   "execution_count": 5,
   "metadata": {
    "id": "Ly9gzshZmo_V"
   },
   "outputs": [],
   "source": [
    "def decontracted(phrase):\n",
    "    # specific\n",
    "    phrase = re.sub(r\"won't\", \"will not\", phrase)\n",
    "    phrase = re.sub(r\"can\\'t\", \"can not\", phrase)\n",
    "\n",
    "    # general\n",
    "    phrase = re.sub(r\"n\\'t\", \" not\", phrase)\n",
    "    phrase = re.sub(r\"\\'re\", \" are\", phrase)\n",
    "    phrase = re.sub(r\"\\'s\", \" is\", phrase)\n",
    "    phrase = re.sub(r\"\\'d\", \" would\", phrase)\n",
    "    phrase = re.sub(r\"\\'ll\", \" will\", phrase)\n",
    "    phrase = re.sub(r\"\\'t\", \" not\", phrase)\n",
    "    phrase = re.sub(r\"\\'ve\", \" have\", phrase)\n",
    "    phrase = re.sub(r\"\\'m\", \" am\", phrase)\n",
    "    return phrase"
   ]
  },
  {
   "cell_type": "code",
   "execution_count": 6,
   "metadata": {
    "id": "dZbK95OtnP0X"
   },
   "outputs": [],
   "source": [
    "def cleanpunc(sentence): #function to clean the word of any punctuation or special characters\n",
    "    cleaned = re.sub(r'[?|!|\\'|\"|#]',r'',sentence)\n",
    "    cleaned = re.sub(r'[.|,|)|(|\\|/]',r' ',cleaned)\n",
    "    return  cleaned"
   ]
  },
  {
   "cell_type": "code",
   "execution_count": 7,
   "metadata": {
    "id": "X7W_kFqvoYC_"
   },
   "outputs": [],
   "source": [
    "stemmer = SnowballStemmer('english')"
   ]
  },
  {
   "cell_type": "code",
   "execution_count": 8,
   "metadata": {
    "id": "hHuGzF89s-hK"
   },
   "outputs": [],
   "source": [
    "eng_stopwords = set(stopwords.words('english'))"
   ]
  },
  {
   "cell_type": "code",
   "execution_count": 9,
   "metadata": {
    "id": "ppNMJ9xEoynE"
   },
   "outputs": [],
   "source": [
    "def preprocess(sentence):\n",
    "    sentence = re.sub(r\"http\\S+\", \"\", sentence)\n",
    "    sentence = BeautifulSoup(sentence, 'html.parser').get_text()\n",
    "    sentence = decontracted(sentence)\n",
    "    sentence = re.sub(\"\\S*\\d\\S*\", \"\", sentence).strip()\n",
    "    sentence = re.sub('[^A-Za-z]+', ' ', sentence)\n",
    "    sentence = \" \".join([stemmer.stem(word) for word in sentence.split()])\n",
    "    sentence = cleanpunc(sentence)\n",
    "    sentence = ' '.join(e.lower() for e in sentence.split() if e.lower() not in eng_stopwords)\n",
    "    return sentence"
   ]
  },
  {
   "cell_type": "code",
   "execution_count": 12,
   "metadata": {
    "scrolled": true
   },
   "outputs": [
    {
     "data": {
      "application/vnd.jupyter.widget-view+json": {
       "model_id": "27ff3569008b4ebf91212b6cb8fe4018",
       "version_major": 2,
       "version_minor": 0
      },
      "text/plain": [
       "HBox(children=(IntProgress(value=0, max=1903408), HTML(value='')))"
      ]
     },
     "metadata": {},
     "output_type": "display_data"
    },
    {
     "name": "stdout",
     "output_type": "stream",
     "text": [
      "1) pete cat bedtim blue doll inch pete cat coolest popular cat town new pete cat bedtim blue doll merrymak rock stripe pj red slipper one sleepi cat readi cuddl measur inch tall safe age remov cloth surfac wash onli new pete cat bedtim blue plush doll base popular pete cat book jame dean super cudd readi naptim bedtim safe age perfect age measur inch merrymak\n",
      "2) new yorker refriger magnet x new yorker handsom cello wrap hard magnet measur width height highlight one mani beauti new yorker cover full color cat tea cup new yorker cover artist gurbuz dogan eksioglu cat tea cup new yorker cover artist gurbuz dogan eksioglu handsom cello wrap hard magnet ideal home offic gift ani new yorker magazin lover highlight one mani beauti new yorker cover full color rigid magnet measur width height new yorker\n",
      "3) men full sleev raglan shirt denim shirt size onli men full sleev raglan shirt denim shirt size onli color blue sleev full sleev materi cotton neck round bhavya enterpris\n",
      "4) glanc women wallet black black wallet glanc treasur addit accessori collect featur attract design wallet definit lend sophist look craft durabl artifici leather materi multipl slot accommod essenti like ident card cash credit debit card accessori comfort women wallet would ever use textur finish wallet provid comfort support without feel bulki ideal girl women made artifici leather size wallet close lenth inch x height inch x width inch multipl card slot id window note compart zipper pocket util design women would love high util textur finish perfect casual formal use ideal birthday anniversari gift come pack without box glanc\n",
      "5) wild anim hungri brain educ flash card enhanc earli learn month year wild anim anim stay forest requir human surviv live find food themselv flesh eater hungri brain flash card help child learn easili differ wild anim play learn flash card develop love learn fun play manner right brain learn flash card learn develop right brain memori babi memori store right brain stay lifetim grasp attent improv concentr eye catch imag flash card make learn fun without ani barrier attract imag interest children concentr improv concentr power observ skill parent child bond flash card veri interest way creat bond child parent enrich vocabulari learn flash card develop enrich vocabulari children also enabl brain rememb word imag speed hungri brain\n"
     ]
    }
   ],
   "source": [
    "pre_processed_text = []\n",
    "\n",
    "for col in tqdm(filtered.values):\n",
    "    text = preprocess(col[0]+' '+col[1]+' '+col[2]+' '+col[3])\n",
    "    pre_processed_text.append(text)\n",
    "\n",
    "for i,text in enumerate(pre_processed_text[:5],1):\n",
    "    print(f\"{i}) {text}\")"
   ]
  },
  {
   "cell_type": "code",
   "execution_count": 17,
   "metadata": {},
   "outputs": [],
   "source": [
    "pickle.dump(pre_processed_text, open('filtered_ppt', 'wb'))"
   ]
  },
  {
   "cell_type": "code",
   "execution_count": 30,
   "metadata": {},
   "outputs": [
    {
     "data": {
      "text/plain": [
       "1903408"
      ]
     },
     "execution_count": 30,
     "metadata": {},
     "output_type": "execute_result"
    }
   ],
   "source": [
    "pre_processed_text = pickle.load(open('filtered_ppt', 'rb'))\n",
    "len(pre_processed_text)"
   ]
  },
  {
   "cell_type": "code",
   "execution_count": 32,
   "metadata": {},
   "outputs": [
    {
     "data": {
      "text/plain": [
       "(1903408,)"
      ]
     },
     "execution_count": 32,
     "metadata": {},
     "output_type": "execute_result"
    }
   ],
   "source": [
    "Y_train.shape"
   ]
  },
  {
   "cell_type": "code",
   "execution_count": null,
   "metadata": {},
   "outputs": [],
   "source": []
  },
  {
   "cell_type": "code",
   "execution_count": 3,
   "metadata": {},
   "outputs": [
    {
     "name": "stdout",
     "output_type": "stream",
     "text": [
      "(1903408, 50000)\n",
      "Wall time: 6min 50s\n"
     ]
    }
   ],
   "source": [
    "%%time\n",
    "from sklearn.feature_extraction.text import TfidfVectorizer\n",
    "tfidf = TfidfVectorizer(max_features = 50000, ngram_range = (1,2))\n",
    "X_train = tfidf.fit_transform(pre_processed_text)\n",
    "print(X_train.shape)"
   ]
  },
  {
   "cell_type": "code",
   "execution_count": 25,
   "metadata": {},
   "outputs": [
    {
     "data": {
      "text/plain": [
       "[('test', 168736889),\n",
       " ('Y_train', 15227416),\n",
       " ('pre_processed_test', 927568),\n",
       " ('prod_id', 886352),\n",
       " ('all_classes', 22168),\n",
       " ('TfidfVectorizer', 2000),\n",
       " ('MultinomialNB', 1056),\n",
       " ('text', 1019),\n",
       " ('train_test_split', 136),\n",
       " ('col', 96),\n",
       " ('np', 80),\n",
       " ('pd', 80),\n",
       " ('plt', 80),\n",
       " ('sns', 80),\n",
       " ('X_train', 56),\n",
       " ('mnb', 56),\n",
       " ('test_final', 56),\n",
       " ('tfidf', 56),\n",
       " ('i', 28)]"
      ]
     },
     "execution_count": 25,
     "metadata": {},
     "output_type": "execute_result"
    }
   ],
   "source": [
    "import sys\n",
    "\n",
    "# These are the usual ipython objects, including this one you are creating\n",
    "ipython_vars = ['In', 'Out', 'exit', 'quit', 'get_ipython', 'ipython_vars']\n",
    "\n",
    "# Get a sorted list of the objects and their sizes\n",
    "sorted([(x, sys.getsizeof(globals().get(x))) for x in dir() if not x.startswith('_') and x not in sys.modules and x not in ipython_vars], key=lambda x: x[1], reverse=True)"
   ]
  },
  {
   "cell_type": "code",
   "execution_count": 26,
   "metadata": {},
   "outputs": [],
   "source": [
    "del test\n",
    "del pre_processed_test"
   ]
  },
  {
   "cell_type": "code",
   "execution_count": 7,
   "metadata": {},
   "outputs": [
    {
     "name": "stdout",
     "output_type": "stream",
     "text": [
      "(1903408,)\n"
     ]
    }
   ],
   "source": [
    "Y_train = filtered['BROWSE_NODE_ID']\n",
    "print(Y_train.shape)"
   ]
  },
  {
   "cell_type": "code",
   "execution_count": 8,
   "metadata": {},
   "outputs": [],
   "source": [
    "del filtered"
   ]
  },
  {
   "cell_type": "code",
   "execution_count": 2,
   "metadata": {},
   "outputs": [
    {
     "data": {
      "text/html": [
       "<div>\n",
       "<style scoped>\n",
       "    .dataframe tbody tr th:only-of-type {\n",
       "        vertical-align: middle;\n",
       "    }\n",
       "\n",
       "    .dataframe tbody tr th {\n",
       "        vertical-align: top;\n",
       "    }\n",
       "\n",
       "    .dataframe thead th {\n",
       "        text-align: right;\n",
       "    }\n",
       "</style>\n",
       "<table border=\"1\" class=\"dataframe\">\n",
       "  <thead>\n",
       "    <tr style=\"text-align: right;\">\n",
       "      <th></th>\n",
       "      <th>PRODUCT_ID</th>\n",
       "      <th>TITLE</th>\n",
       "      <th>DESCRIPTION</th>\n",
       "      <th>BULLET_POINTS</th>\n",
       "      <th>BRAND</th>\n",
       "    </tr>\n",
       "  </thead>\n",
       "  <tbody>\n",
       "    <tr>\n",
       "      <th>0</th>\n",
       "      <td>1</td>\n",
       "      <td>Command 3M Small Kitchen Hooks, White, Decorat...</td>\n",
       "      <td>Sale Unit: PACK</td>\n",
       "      <td>[INCLUDES - 9 hooks and 12 small indoor strips...</td>\n",
       "      <td>Command</td>\n",
       "    </tr>\n",
       "    <tr>\n",
       "      <th>1</th>\n",
       "      <td>2</td>\n",
       "      <td>O'Neal Jump Hardware JAG Unisex-Adult Glove (B...</td>\n",
       "      <td>Synthetic leather palm with double-layer thumb...</td>\n",
       "      <td>[Silicone printing for a better grip. Long las...</td>\n",
       "      <td>O'Neal</td>\n",
       "    </tr>\n",
       "    <tr>\n",
       "      <th>2</th>\n",
       "      <td>3</td>\n",
       "      <td>NFL Detroit Lions Portable Party Fridge, 15.8 ...</td>\n",
       "      <td>Boelter Brands lets you celebrate your favorit...</td>\n",
       "      <td>[Runs on 12 Volt DC Power or 110 Volt AC Power...</td>\n",
       "      <td>Boelter Brands</td>\n",
       "    </tr>\n",
       "    <tr>\n",
       "      <th>3</th>\n",
       "      <td>4</td>\n",
       "      <td>Panasonic Single Line KX-TS880MX Corded Phone ...</td>\n",
       "      <td>Features: 50 Station Phonebook Corded Phone Al...</td>\n",
       "      <td>Panasonic Landline Phones doesn't come with a ...</td>\n",
       "      <td>Panasonic</td>\n",
       "    </tr>\n",
       "    <tr>\n",
       "      <th>4</th>\n",
       "      <td>5</td>\n",
       "      <td>Zero Baby Girl's 100% Cotton Innerwear Bloomer...</td>\n",
       "      <td>Zero Baby Girl Panties Set. 100% Cotton, Breat...</td>\n",
       "      <td>[Zero Baby Girl Panties, Pack of 6, 100% Cotto...</td>\n",
       "      <td>Zero</td>\n",
       "    </tr>\n",
       "  </tbody>\n",
       "</table>\n",
       "</div>"
      ],
      "text/plain": [
       "   PRODUCT_ID                                              TITLE  \\\n",
       "0           1  Command 3M Small Kitchen Hooks, White, Decorat...   \n",
       "1           2  O'Neal Jump Hardware JAG Unisex-Adult Glove (B...   \n",
       "2           3  NFL Detroit Lions Portable Party Fridge, 15.8 ...   \n",
       "3           4  Panasonic Single Line KX-TS880MX Corded Phone ...   \n",
       "4           5  Zero Baby Girl's 100% Cotton Innerwear Bloomer...   \n",
       "\n",
       "                                         DESCRIPTION  \\\n",
       "0                                    Sale Unit: PACK   \n",
       "1  Synthetic leather palm with double-layer thumb...   \n",
       "2  Boelter Brands lets you celebrate your favorit...   \n",
       "3  Features: 50 Station Phonebook Corded Phone Al...   \n",
       "4  Zero Baby Girl Panties Set. 100% Cotton, Breat...   \n",
       "\n",
       "                                       BULLET_POINTS           BRAND  \n",
       "0  [INCLUDES - 9 hooks and 12 small indoor strips...         Command  \n",
       "1  [Silicone printing for a better grip. Long las...          O'Neal  \n",
       "2  [Runs on 12 Volt DC Power or 110 Volt AC Power...  Boelter Brands  \n",
       "3  Panasonic Landline Phones doesn't come with a ...       Panasonic  \n",
       "4  [Zero Baby Girl Panties, Pack of 6, 100% Cotto...            Zero  "
      ]
     },
     "execution_count": 2,
     "metadata": {},
     "output_type": "execute_result"
    }
   ],
   "source": [
    "test = pd.read_csv('test.csv', escapechar = \"\\\\\", quoting = csv.QUOTE_NONE)\n",
    "test.head()"
   ]
  },
  {
   "cell_type": "code",
   "execution_count": 10,
   "metadata": {},
   "outputs": [
    {
     "data": {
      "application/vnd.jupyter.widget-view+json": {
       "model_id": "4506a77038784e56b10f2ed00c9e728c",
       "version_major": 2,
       "version_minor": 0
      },
      "text/plain": [
       "HBox(children=(IntProgress(value=0, max=110775), HTML(value='')))"
      ]
     },
     "metadata": {},
     "output_type": "display_data"
    },
    {
     "name": "stdout",
     "output_type": "stream",
     "text": [
      "\n",
      "1) command small kitchen hook white decor damag free easi easi hook strip multi pack unit pack includ hook small indoor strip hook hold lb organ damag free say goodby hole mark sticki residu wall door cabinet closet command hook easi use help keep wall look beauti tool requir hang hat calendar key measur spoon clean tool jewelri accessori want without nail hammer includ metal wire toggl featur versatil hang strong versatil command wire hook includ hold strong varieti indoor surfac includ paint wall smooth ceil finish wood glass tile metal smooth surfac remov clean reorgan inspir strike wall hook leav sticki adhes behind perfect use insid cabinet closet colleg dorm apart home offic damag free hang hold strong remov clean easi appli remov work varieti surfac command\n",
      "2) neal jump hardwar jag unisex adult glove black red leather palm doubl layer thumb reinforc hook loop adjust wrist closur silicon print better grip long last flexibl materi perfect fit super lightweight design bold non fade graphic seamless rollov fingertip synthet leather palm doubl layer thumb reinforc neal\n",
      "3) nfl detroit lion portabl parti fridg quartboelt brand let celebr favorit pop cultur phenomenon varieti differ way around home drinkwar coffe mug pint glass home accessori like coaster picnic item boelter whether look person item home use look bulk order boelter brand sure find quantiti suit need product design custom safeti environment economi mind coupl high qualiti materi innov manufactur process whatev interest boelter line licens product guarante offer someth live without dimens x x mini fridg perfect gameday parti hold regular tall enough plug car charger standard home outlet licens nfl team logo color graphic run volt dc power volt ac power plug home outlet car lighter hold regular vertic space liter bottl decor vibrant team color thermo electr fridg continu use cool warm boelter brand\n",
      "4) panason singl line cord phone white featur station phonebook cord phone alphanumer keypad redial memori specif brand panason type cord phone model name call featur speed dial speed dial button call featur auto redial display featur display alphanumer display number display line display line keypad featur keypad alphanumer memori featur phonebook entri entri redial memori redial addit featur featur one touch step tilt anglepanason landlin phone doe come manufactur seal phone new brand warranti panason\n",
      "5) zero babi girl cotton innerwear bloomer drawer panti month multicolour pack babi girl panti set cotton breathabl veri skin friend pack panti panti promis utmost comfort breathabl littl one day long ideal inner wear suitabl babi girl good season summer spring winter autumn perfect playtim fun time nap time anytim wash care easi wash dri hand wash machin wash bleach wring sold exclus myfabricstor zero babi girl panti pack cotton babi girl set includ panti drawer panti cool stylish soft elast waist band ideal babi girl innerwear winter summer casual wear sleep wear day night wear wash care easi wash dri hand wash machin wash bleach wring veri soft featur ador fun design made india zero\n"
     ]
    }
   ],
   "source": [
    "pre_processed_test = []\n",
    "\n",
    "for col in tqdm(test.values):\n",
    "    text = \"\"\n",
    "    if not col[1]: text += \"empty \"\n",
    "    else: text += str(col[1])\n",
    "    if not col[2]: text += \" empty \"\n",
    "    else: text += str(col[2])\n",
    "    if not col[3]: text += \" empty \"\n",
    "    else: text += str(col[3])\n",
    "    if not col[4]: text += \" empty\"\n",
    "    else: text += str(col[4])\n",
    "    pre_processed_test.append(preprocess(text))\n",
    "\n",
    "for i,text in enumerate(pre_processed_test[:5],1):\n",
    "    print(f\"{i}) {text}\")"
   ]
  },
  {
   "cell_type": "code",
   "execution_count": 11,
   "metadata": {},
   "outputs": [],
   "source": [
    "tfidf = pickle.load(open('tfidf_model_50K', 'rb'))"
   ]
  },
  {
   "cell_type": "code",
   "execution_count": 12,
   "metadata": {},
   "outputs": [],
   "source": [
    "test_final = tfidf.transform(pre_processed_test)"
   ]
  },
  {
   "cell_type": "code",
   "execution_count": 13,
   "metadata": {},
   "outputs": [
    {
     "data": {
      "text/plain": [
       "(110775, 50000)"
      ]
     },
     "execution_count": 13,
     "metadata": {},
     "output_type": "execute_result"
    }
   ],
   "source": [
    "test_final.shape"
   ]
  },
  {
   "cell_type": "code",
   "execution_count": 14,
   "metadata": {},
   "outputs": [],
   "source": [
    "pickle.dump(test_final, open('test_tfidf_50K', 'wb'))"
   ]
  },
  {
   "cell_type": "code",
   "execution_count": 15,
   "metadata": {},
   "outputs": [],
   "source": [
    "pickle.dump(tfidf, open('tfidf_model_50K', 'wb'))"
   ]
  },
  {
   "cell_type": "code",
   "execution_count": 16,
   "metadata": {},
   "outputs": [],
   "source": [
    "del pre_processed_text"
   ]
  },
  {
   "cell_type": "code",
   "execution_count": 15,
   "metadata": {},
   "outputs": [
    {
     "data": {
      "text/plain": [
       "56"
      ]
     },
     "execution_count": 15,
     "metadata": {},
     "output_type": "execute_result"
    }
   ],
   "source": [
    "import sys\n",
    "sys.getsizeof(X_train)"
   ]
  },
  {
   "cell_type": "code",
   "execution_count": 17,
   "metadata": {},
   "outputs": [],
   "source": [
    "pickle.dump((X_train, Y_train), open('filtered_tfidf_50K.pkl', 'wb'))"
   ]
  },
  {
   "cell_type": "code",
   "execution_count": 15,
   "metadata": {},
   "outputs": [],
   "source": [
    "X_train, Y_train = pickle.load(open('filtered_tfidf_50K.pkl', 'rb'))"
   ]
  },
  {
   "cell_type": "code",
   "execution_count": 16,
   "metadata": {},
   "outputs": [
    {
     "name": "stdout",
     "output_type": "stream",
     "text": [
      "(1903408, 50000) (1903408,)\n"
     ]
    }
   ],
   "source": [
    "print(X_train.shape, Y_train.shape)"
   ]
  },
  {
   "cell_type": "code",
   "execution_count": 17,
   "metadata": {},
   "outputs": [
    {
     "data": {
      "text/plain": [
       "2759"
      ]
     },
     "execution_count": 17,
     "metadata": {},
     "output_type": "execute_result"
    }
   ],
   "source": [
    "all_classes = Y_train.unique()\n",
    "len(all_classes)"
   ]
  },
  {
   "cell_type": "code",
   "execution_count": 18,
   "metadata": {},
   "outputs": [],
   "source": [
    "from sklearn.naive_bayes import MultinomialNB\n",
    "mnb = MultinomialNB(alpha = 0.00001)"
   ]
  },
  {
   "cell_type": "code",
   "execution_count": 19,
   "metadata": {},
   "outputs": [],
   "source": [
    "from sklearn.model_selection import train_test_split"
   ]
  },
  {
   "cell_type": "code",
   "execution_count": 20,
   "metadata": {},
   "outputs": [
    {
     "data": {
      "application/vnd.jupyter.widget-view+json": {
       "model_id": "72861e44ba694c2284a76d4ebc60cf66",
       "version_major": 2,
       "version_minor": 0
      },
      "text/plain": [
       "HBox(children=(IntProgress(value=0, max=38), HTML(value='')))"
      ]
     },
     "metadata": {},
     "output_type": "display_data"
    },
    {
     "name": "stdout",
     "output_type": "stream",
     "text": [
      "\n"
     ]
    }
   ],
   "source": [
    "start = 0\n",
    "minibatch_size = 50000\n",
    "for i in tqdm(range(0, (int)(X_train.shape[0]/minibatch_size))):\n",
    "    \n",
    "    train_x = X_train[start:(start+minibatch_size), :]\n",
    "    train_y = Y_train.iloc[start:(start+minibatch_size)]\n",
    "    mnb.partial_fit(train_x, train_y, classes=all_classes)\n",
    "    #_, test_x, _, test_y = train_test_split(X_test,Y_test, test_size=0.1)\n",
    "    #print(f\"Accuracy = {mnb.score(test_x, test_y)}\")\n",
    "    start+=minibatch_size"
   ]
  },
  {
   "cell_type": "code",
   "execution_count": 21,
   "metadata": {},
   "outputs": [
    {
     "data": {
      "text/html": [
       "<div>\n",
       "<style scoped>\n",
       "    .dataframe tbody tr th:only-of-type {\n",
       "        vertical-align: middle;\n",
       "    }\n",
       "\n",
       "    .dataframe tbody tr th {\n",
       "        vertical-align: top;\n",
       "    }\n",
       "\n",
       "    .dataframe thead th {\n",
       "        text-align: right;\n",
       "    }\n",
       "</style>\n",
       "<table border=\"1\" class=\"dataframe\">\n",
       "  <thead>\n",
       "    <tr style=\"text-align: right;\">\n",
       "      <th></th>\n",
       "      <th>PRODUCT_ID</th>\n",
       "      <th>TITLE</th>\n",
       "      <th>DESCRIPTION</th>\n",
       "      <th>BULLET_POINTS</th>\n",
       "      <th>BRAND</th>\n",
       "    </tr>\n",
       "  </thead>\n",
       "  <tbody>\n",
       "    <tr>\n",
       "      <th>0</th>\n",
       "      <td>1</td>\n",
       "      <td>Command 3M Small Kitchen Hooks, White, Decorat...</td>\n",
       "      <td>Sale Unit: PACK</td>\n",
       "      <td>[INCLUDES - 9 hooks and 12 small indoor strips...</td>\n",
       "      <td>Command</td>\n",
       "    </tr>\n",
       "    <tr>\n",
       "      <th>1</th>\n",
       "      <td>2</td>\n",
       "      <td>O'Neal Jump Hardware JAG Unisex-Adult Glove (B...</td>\n",
       "      <td>Synthetic leather palm with double-layer thumb...</td>\n",
       "      <td>[Silicone printing for a better grip. Long las...</td>\n",
       "      <td>O'Neal</td>\n",
       "    </tr>\n",
       "    <tr>\n",
       "      <th>2</th>\n",
       "      <td>3</td>\n",
       "      <td>NFL Detroit Lions Portable Party Fridge, 15.8 ...</td>\n",
       "      <td>Boelter Brands lets you celebrate your favorit...</td>\n",
       "      <td>[Runs on 12 Volt DC Power or 110 Volt AC Power...</td>\n",
       "      <td>Boelter Brands</td>\n",
       "    </tr>\n",
       "    <tr>\n",
       "      <th>3</th>\n",
       "      <td>4</td>\n",
       "      <td>Panasonic Single Line KX-TS880MX Corded Phone ...</td>\n",
       "      <td>Features: 50 Station Phonebook Corded Phone Al...</td>\n",
       "      <td>Panasonic Landline Phones doesn't come with a ...</td>\n",
       "      <td>Panasonic</td>\n",
       "    </tr>\n",
       "    <tr>\n",
       "      <th>4</th>\n",
       "      <td>5</td>\n",
       "      <td>Zero Baby Girl's 100% Cotton Innerwear Bloomer...</td>\n",
       "      <td>Zero Baby Girl Panties Set. 100% Cotton, Breat...</td>\n",
       "      <td>[Zero Baby Girl Panties, Pack of 6, 100% Cotto...</td>\n",
       "      <td>Zero</td>\n",
       "    </tr>\n",
       "  </tbody>\n",
       "</table>\n",
       "</div>"
      ],
      "text/plain": [
       "   PRODUCT_ID                                              TITLE  \\\n",
       "0           1  Command 3M Small Kitchen Hooks, White, Decorat...   \n",
       "1           2  O'Neal Jump Hardware JAG Unisex-Adult Glove (B...   \n",
       "2           3  NFL Detroit Lions Portable Party Fridge, 15.8 ...   \n",
       "3           4  Panasonic Single Line KX-TS880MX Corded Phone ...   \n",
       "4           5  Zero Baby Girl's 100% Cotton Innerwear Bloomer...   \n",
       "\n",
       "                                         DESCRIPTION  \\\n",
       "0                                    Sale Unit: PACK   \n",
       "1  Synthetic leather palm with double-layer thumb...   \n",
       "2  Boelter Brands lets you celebrate your favorit...   \n",
       "3  Features: 50 Station Phonebook Corded Phone Al...   \n",
       "4  Zero Baby Girl Panties Set. 100% Cotton, Breat...   \n",
       "\n",
       "                                       BULLET_POINTS           BRAND  \n",
       "0  [INCLUDES - 9 hooks and 12 small indoor strips...         Command  \n",
       "1  [Silicone printing for a better grip. Long las...          O'Neal  \n",
       "2  [Runs on 12 Volt DC Power or 110 Volt AC Power...  Boelter Brands  \n",
       "3  Panasonic Landline Phones doesn't come with a ...       Panasonic  \n",
       "4  [Zero Baby Girl Panties, Pack of 6, 100% Cotto...            Zero  "
      ]
     },
     "execution_count": 21,
     "metadata": {},
     "output_type": "execute_result"
    }
   ],
   "source": [
    "test = pd.read_csv('test.csv', escapechar = \"\\\\\", quoting = csv.QUOTE_NONE)\n",
    "test.head()"
   ]
  },
  {
   "cell_type": "code",
   "execution_count": 22,
   "metadata": {},
   "outputs": [],
   "source": [
    "prod_id = test['PRODUCT_ID']"
   ]
  },
  {
   "cell_type": "code",
   "execution_count": 23,
   "metadata": {},
   "outputs": [
    {
     "data": {
      "text/plain": [
       "(110775, 50000)"
      ]
     },
     "execution_count": 23,
     "metadata": {},
     "output_type": "execute_result"
    }
   ],
   "source": [
    "test_final.shape"
   ]
  },
  {
   "cell_type": "code",
   "execution_count": 24,
   "metadata": {},
   "outputs": [
    {
     "data": {
      "text/plain": [
       "(110775,)"
      ]
     },
     "execution_count": 24,
     "metadata": {},
     "output_type": "execute_result"
    }
   ],
   "source": [
    "pred = mnb.predict(test_final)\n",
    "pred.shape"
   ]
  },
  {
   "cell_type": "code",
   "execution_count": 25,
   "metadata": {},
   "outputs": [],
   "source": [
    "submission = pd.DataFrame(zip(prod_id, pred), columns = ['PRODUCT_ID', 'BROWSE_NODE_ID'])\n",
    "submission.to_csv('submission9.csv', index = False)"
   ]
  },
  {
   "cell_type": "code",
   "execution_count": 43,
   "metadata": {},
   "outputs": [
    {
     "data": {
      "application/vnd.jupyter.widget-view+json": {
       "model_id": "ef8cc26c88934ef0b646527139cce673",
       "version_major": 2,
       "version_minor": 0
      },
      "text/plain": [
       "HBox(children=(IntProgress(value=0, max=38), HTML(value='')))"
      ]
     },
     "metadata": {},
     "output_type": "display_data"
    }
   ],
   "source": [
    "from sklearn.linear_model import SGDClassifier\n",
    "lr = SGDClassifier(loss = 'log', penalty = 'l1')\n",
    "start = 0\n",
    "minibatch_size = 50000\n",
    "for i in tqdm(range(0, (int)(X_train.shape[0]/minibatch_size))):\n",
    "    \n",
    "    train_x = X_train[start:(start+minibatch_size), :]\n",
    "    train_y = Y_train.iloc[start:(start+minibatch_size)]\n",
    "    lr.partial_fit(train_x, train_y, classes=all_classes)\n",
    "    #_, test_x, _, test_y = train_test_split(X_test,Y_test, test_size=0.1)\n",
    "    #print(f\"Accuracy = {mnb.score(test_x, test_y)}\")\n",
    "    start+=minibatch_size"
   ]
  },
  {
   "cell_type": "code",
   "execution_count": 44,
   "metadata": {},
   "outputs": [
    {
     "data": {
      "text/plain": [
       "(110775,)"
      ]
     },
     "execution_count": 44,
     "metadata": {},
     "output_type": "execute_result"
    }
   ],
   "source": [
    "predlr = lr.predict(test_final)\n",
    "predlr.shape"
   ]
  },
  {
   "cell_type": "code",
   "execution_count": 45,
   "metadata": {},
   "outputs": [],
   "source": [
    "submission = pd.DataFrame(zip(test['PRODUCT_ID'], predlr), columns = ['PRODUCT_ID', 'BROWSE_NODE_ID'])\n",
    "submission.to_csv('submission4.csv', index = False)"
   ]
  },
  {
   "cell_type": "code",
   "execution_count": 46,
   "metadata": {},
   "outputs": [
    {
     "data": {
      "text/plain": [
       "(1903408,)"
      ]
     },
     "execution_count": 46,
     "metadata": {},
     "output_type": "execute_result"
    }
   ],
   "source": [
    "brand.shape"
   ]
  },
  {
   "cell_type": "code",
   "execution_count": 47,
   "metadata": {},
   "outputs": [
    {
     "data": {
      "text/plain": [
       "(1903408, 213032)"
      ]
     },
     "execution_count": 47,
     "metadata": {},
     "output_type": "execute_result"
    }
   ],
   "source": [
    "brand_ohe.shape"
   ]
  },
  {
   "cell_type": "code",
   "execution_count": 49,
   "metadata": {},
   "outputs": [],
   "source": [
    "nmnb = MultinomialNB(alpha = 0.0001)"
   ]
  },
  {
   "cell_type": "code",
   "execution_count": 51,
   "metadata": {},
   "outputs": [
    {
     "data": {
      "application/vnd.jupyter.widget-view+json": {
       "model_id": "1b681915d15347a3af4213f0b9227e5b",
       "version_major": 2,
       "version_minor": 0
      },
      "text/plain": [
       "HBox(children=(IntProgress(value=0, max=190), HTML(value='')))"
      ]
     },
     "metadata": {},
     "output_type": "display_data"
    },
    {
     "ename": "MemoryError",
     "evalue": "Unable to allocate array with shape (2759, 213032) and data type float64",
     "output_type": "error",
     "traceback": [
      "\u001b[1;31m---------------------------------------------------------------------------\u001b[0m",
      "\u001b[1;31mMemoryError\u001b[0m                               Traceback (most recent call last)",
      "\u001b[1;32m<ipython-input-51-e7370a5f321d>\u001b[0m in \u001b[0;36m<module>\u001b[1;34m\u001b[0m\n\u001b[0;32m      5\u001b[0m     \u001b[0mtrain_x\u001b[0m \u001b[1;33m=\u001b[0m \u001b[0mbrand_ohe\u001b[0m\u001b[1;33m[\u001b[0m\u001b[0mstart\u001b[0m\u001b[1;33m:\u001b[0m\u001b[1;33m(\u001b[0m\u001b[0mstart\u001b[0m\u001b[1;33m+\u001b[0m\u001b[0mminibatch_size\u001b[0m\u001b[1;33m)\u001b[0m\u001b[1;33m,\u001b[0m \u001b[1;33m:\u001b[0m\u001b[1;33m]\u001b[0m\u001b[1;33m\u001b[0m\u001b[1;33m\u001b[0m\u001b[0m\n\u001b[0;32m      6\u001b[0m     \u001b[0mtrain_y\u001b[0m \u001b[1;33m=\u001b[0m \u001b[0mY_train\u001b[0m\u001b[1;33m.\u001b[0m\u001b[0miloc\u001b[0m\u001b[1;33m[\u001b[0m\u001b[0mstart\u001b[0m\u001b[1;33m:\u001b[0m\u001b[1;33m(\u001b[0m\u001b[0mstart\u001b[0m\u001b[1;33m+\u001b[0m\u001b[0mminibatch_size\u001b[0m\u001b[1;33m)\u001b[0m\u001b[1;33m]\u001b[0m\u001b[1;33m\u001b[0m\u001b[1;33m\u001b[0m\u001b[0m\n\u001b[1;32m----> 7\u001b[1;33m     \u001b[0mnmnb\u001b[0m\u001b[1;33m.\u001b[0m\u001b[0mpartial_fit\u001b[0m\u001b[1;33m(\u001b[0m\u001b[0mtrain_x\u001b[0m\u001b[1;33m,\u001b[0m \u001b[0mtrain_y\u001b[0m\u001b[1;33m,\u001b[0m \u001b[0mclasses\u001b[0m\u001b[1;33m=\u001b[0m\u001b[0mall_classes\u001b[0m\u001b[1;33m)\u001b[0m\u001b[1;33m\u001b[0m\u001b[1;33m\u001b[0m\u001b[0m\n\u001b[0m\u001b[0;32m      8\u001b[0m     \u001b[1;31m#_, test_x, _, test_y = train_test_split(X_test,Y_test, test_size=0.1)\u001b[0m\u001b[1;33m\u001b[0m\u001b[1;33m\u001b[0m\u001b[1;33m\u001b[0m\u001b[0m\n\u001b[0;32m      9\u001b[0m     \u001b[1;31m#print(f\"Accuracy = {mnb.score(test_x, test_y)}\")\u001b[0m\u001b[1;33m\u001b[0m\u001b[1;33m\u001b[0m\u001b[1;33m\u001b[0m\u001b[0m\n",
      "\u001b[1;32mc:\\users\\asus\\appdata\\local\\programs\\python\\python37\\lib\\site-packages\\sklearn\\naive_bayes.py\u001b[0m in \u001b[0;36mpartial_fit\u001b[1;34m(self, X, y, classes, sample_weight)\u001b[0m\n\u001b[0;32m    585\u001b[0m         \u001b[1;31m# to avoid computing the smooth log probas at each call to partial fit\u001b[0m\u001b[1;33m\u001b[0m\u001b[1;33m\u001b[0m\u001b[1;33m\u001b[0m\u001b[0m\n\u001b[0;32m    586\u001b[0m         \u001b[0malpha\u001b[0m \u001b[1;33m=\u001b[0m \u001b[0mself\u001b[0m\u001b[1;33m.\u001b[0m\u001b[0m_check_alpha\u001b[0m\u001b[1;33m(\u001b[0m\u001b[1;33m)\u001b[0m\u001b[1;33m\u001b[0m\u001b[1;33m\u001b[0m\u001b[0m\n\u001b[1;32m--> 587\u001b[1;33m         \u001b[0mself\u001b[0m\u001b[1;33m.\u001b[0m\u001b[0m_update_feature_log_prob\u001b[0m\u001b[1;33m(\u001b[0m\u001b[0malpha\u001b[0m\u001b[1;33m)\u001b[0m\u001b[1;33m\u001b[0m\u001b[1;33m\u001b[0m\u001b[0m\n\u001b[0m\u001b[0;32m    588\u001b[0m         \u001b[0mself\u001b[0m\u001b[1;33m.\u001b[0m\u001b[0m_update_class_log_prior\u001b[0m\u001b[1;33m(\u001b[0m\u001b[0mclass_prior\u001b[0m\u001b[1;33m=\u001b[0m\u001b[0mclass_prior\u001b[0m\u001b[1;33m)\u001b[0m\u001b[1;33m\u001b[0m\u001b[1;33m\u001b[0m\u001b[0m\n\u001b[0;32m    589\u001b[0m         \u001b[1;32mreturn\u001b[0m \u001b[0mself\u001b[0m\u001b[1;33m\u001b[0m\u001b[1;33m\u001b[0m\u001b[0m\n",
      "\u001b[1;32mc:\\users\\asus\\appdata\\local\\programs\\python\\python37\\lib\\site-packages\\sklearn\\naive_bayes.py\u001b[0m in \u001b[0;36m_update_feature_log_prob\u001b[1;34m(self, alpha)\u001b[0m\n\u001b[0;32m    767\u001b[0m         \u001b[0msmoothed_cc\u001b[0m \u001b[1;33m=\u001b[0m \u001b[0msmoothed_fc\u001b[0m\u001b[1;33m.\u001b[0m\u001b[0msum\u001b[0m\u001b[1;33m(\u001b[0m\u001b[0maxis\u001b[0m\u001b[1;33m=\u001b[0m\u001b[1;36m1\u001b[0m\u001b[1;33m)\u001b[0m\u001b[1;33m\u001b[0m\u001b[1;33m\u001b[0m\u001b[0m\n\u001b[0;32m    768\u001b[0m \u001b[1;33m\u001b[0m\u001b[0m\n\u001b[1;32m--> 769\u001b[1;33m         self.feature_log_prob_ = (np.log(smoothed_fc) -\n\u001b[0m\u001b[0;32m    770\u001b[0m                                   np.log(smoothed_cc.reshape(-1, 1)))\n\u001b[0;32m    771\u001b[0m \u001b[1;33m\u001b[0m\u001b[0m\n",
      "\u001b[1;31mMemoryError\u001b[0m: Unable to allocate array with shape (2759, 213032) and data type float64"
     ]
    }
   ],
   "source": [
    "start = 0\n",
    "minibatch_size = 10000\n",
    "for i in tqdm(range(0, (int)(X_train.shape[0]/minibatch_size))):\n",
    "    \n",
    "    train_x = brand_ohe[start:(start+minibatch_size), :]\n",
    "    train_y = Y_train.iloc[start:(start+minibatch_size)]\n",
    "    nmnb.partial_fit(train_x, train_y, classes=all_classes)\n",
    "    #_, test_x, _, test_y = train_test_split(X_test,Y_test, test_size=0.1)\n",
    "    #print(f\"Accuracy = {mnb.score(test_x, test_y)}\")\n",
    "    start+=minibatch_size"
   ]
  },
  {
   "cell_type": "code",
   "execution_count": 52,
   "metadata": {},
   "outputs": [],
   "source": [
    "del brand\n",
    "del brand_ohe\n",
    "del predlr"
   ]
  },
  {
   "cell_type": "code",
   "execution_count": 54,
   "metadata": {},
   "outputs": [],
   "source": [
    "del X_train\n",
    "del Y_train"
   ]
  },
  {
   "cell_type": "code",
   "execution_count": null,
   "metadata": {},
   "outputs": [],
   "source": []
  }
 ],
 "metadata": {
  "kernelspec": {
   "display_name": "Python 3",
   "language": "python",
   "name": "python3"
  },
  "language_info": {
   "codemirror_mode": {
    "name": "ipython",
    "version": 3
   },
   "file_extension": ".py",
   "mimetype": "text/x-python",
   "name": "python",
   "nbconvert_exporter": "python",
   "pygments_lexer": "ipython3",
   "version": "3.7.4"
  }
 },
 "nbformat": 4,
 "nbformat_minor": 2
}
